{
 "cells": [
  {
   "cell_type": "markdown",
   "id": "f5a18a1e",
   "metadata": {},
   "source": [
    "# 정렬"
   ]
  },
  {
   "cell_type": "markdown",
   "id": "fae33acf",
   "metadata": {},
   "source": [
    "## *2750문제 \"수정렬하기\"*"
   ]
  },
  {
   "cell_type": "code",
   "execution_count": 3,
   "id": "b963e993",
   "metadata": {},
   "outputs": [],
   "source": [
    "#시간 복잡도가 O(n²)인 정렬 알고리즘으로 풀 수 있습니다. 예를 들면 삽입 정렬, 거품 정렬 등이 있습니다."
   ]
  },
  {
   "cell_type": "code",
   "execution_count": 9,
   "id": "5e6b9ae1",
   "metadata": {},
   "outputs": [
    {
     "name": "stdout",
     "output_type": "stream",
     "text": [
      "3\n",
      "3\n",
      "2\n",
      "1\n",
      "1\n",
      "2\n",
      "3\n"
     ]
    }
   ],
   "source": [
    "N = int(input())\n",
    "M = []\n",
    "for i in range(N):\n",
    "    M.append(int(input()))\n",
    "\n",
    "M = sorted(M)\n",
    "\n",
    "for k in M:\n",
    "    print(k)"
   ]
  },
  {
   "cell_type": "markdown",
   "id": "95123242",
   "metadata": {},
   "source": [
    "###### *버블정렬*"
   ]
  },
  {
   "cell_type": "code",
   "execution_count": 10,
   "id": "770243ea",
   "metadata": {},
   "outputs": [],
   "source": [
    "# 버블정렬 = 버블 정렬(bubble sort)은 서로 이웃한 데이터들을 비교하며 가장 큰 데이터를 가장 뒤로 보내며 정렬하는 방식이다."
   ]
  },
  {
   "cell_type": "code",
   "execution_count": 16,
   "id": "72813806",
   "metadata": {},
   "outputs": [
    {
     "name": "stdout",
     "output_type": "stream",
     "text": [
      "3\n",
      "3\n",
      "2\n",
      "1\n",
      "1\n",
      "2\n",
      "3\n"
     ]
    }
   ],
   "source": [
    "N = int(input())\n",
    "M = []\n",
    "for i in range(N):\n",
    "    M.append(int(input()))\n",
    "    \n",
    "for i in range(len(M)):\n",
    "    for k in range(len(M)):\n",
    "        if M[i] < M[k]:\n",
    "            M[i], M[k] = M[k], M[i]\n",
    "            \n",
    "for n in M:\n",
    "    print(n)\n",
    "    \n",
    "    \n",
    "##이게 왜 버블인지 모르겠음."
   ]
  },
  {
   "cell_type": "code",
   "execution_count": 23,
   "id": "3960b3a3",
   "metadata": {},
   "outputs": [
    {
     "name": "stdout",
     "output_type": "stream",
     "text": [
      "3\n",
      "3\n",
      "2\n",
      "1\n",
      "1\n",
      "2\n",
      "3\n"
     ]
    }
   ],
   "source": [
    "N = int(input())\n",
    "M = []\n",
    "for i in range(N):\n",
    "    M.append(int(input()))\n",
    "    \n",
    "for i in range(len(M)-1):\n",
    "    for k in range(len(M)-1):\n",
    "        if M[k] > M[k+1]:\n",
    "            M[k], M[k+1] = M[k+1], M[k]\n",
    "            \n",
    "for n in M:\n",
    "    print(n)"
   ]
  },
  {
   "cell_type": "markdown",
   "id": "daca9ff5",
   "metadata": {},
   "source": [
    "###### *삽입정렬*"
   ]
  },
  {
   "cell_type": "code",
   "execution_count": null,
   "id": "bdb43065",
   "metadata": {},
   "outputs": [],
   "source": [
    "#삽입 정렬(insertion sort)은 아직 정렬되지 않은 임의의 데이터를 이미 정렬된 부분의 적절한 위치에 삽입해 가며 정렬하는 방식이다."
   ]
  },
  {
   "cell_type": "code",
   "execution_count": null,
   "id": "aaefacd5",
   "metadata": {},
   "outputs": [],
   "source": []
  },
  {
   "cell_type": "code",
   "execution_count": null,
   "id": "562f4507",
   "metadata": {},
   "outputs": [],
   "source": []
  },
  {
   "cell_type": "markdown",
   "id": "07704b4f",
   "metadata": {},
   "source": [
    "## *2751문제 \"수정렬하기2\"*"
   ]
  },
  {
   "cell_type": "markdown",
   "id": "26a50d74",
   "metadata": {},
   "source": [
    "###### *병합정렬*"
   ]
  },
  {
   "cell_type": "code",
   "execution_count": null,
   "id": "c882c83f",
   "metadata": {},
   "outputs": [],
   "source": []
  },
  {
   "cell_type": "markdown",
   "id": "88ea264b",
   "metadata": {},
   "source": [
    "###### *힙정렬*"
   ]
  },
  {
   "cell_type": "code",
   "execution_count": null,
   "id": "5b099c12",
   "metadata": {},
   "outputs": [],
   "source": []
  },
  {
   "cell_type": "code",
   "execution_count": null,
   "id": "259b6040",
   "metadata": {},
   "outputs": [],
   "source": []
  },
  {
   "cell_type": "markdown",
   "id": "6232f295",
   "metadata": {},
   "source": [
    "## *10989문제 \"수정렬하기3\"*"
   ]
  },
  {
   "cell_type": "code",
   "execution_count": null,
   "id": "500b7415",
   "metadata": {},
   "outputs": [],
   "source": [
    "#수의 범위가 작다면 카운팅 정렬을 사용하여 더욱 빠르게 정렬할 수 있습니다."
   ]
  },
  {
   "cell_type": "code",
   "execution_count": 83,
   "id": "2a9d18eb",
   "metadata": {},
   "outputs": [
    {
     "name": "stdout",
     "output_type": "stream",
     "text": [
      "5\n",
      "5\n",
      "5\n",
      "5\n",
      "4\n",
      "2\n",
      "2\n",
      "4\n",
      "5\n",
      "5\n",
      "5\n"
     ]
    }
   ],
   "source": [
    "#주피터 sys.stdin.readline() 지원 X\n",
    "N = int(input())\n",
    "M = [0] * 10001\n",
    "\n",
    "for i in range(N):\n",
    "    M[int(input())] += 1\n",
    "    \n",
    "for k in range(10001):\n",
    "    if M[k] != 0:\n",
    "        for j in range(M[k]):\n",
    "            print(k)"
   ]
  },
  {
   "cell_type": "code",
   "execution_count": 81,
   "id": "e5646be1",
   "metadata": {},
   "outputs": [
    {
     "ename": "ValueError",
     "evalue": "invalid literal for int() with base 10: ''",
     "output_type": "error",
     "traceback": [
      "\u001b[1;31m---------------------------------------------------------------------------\u001b[0m",
      "\u001b[1;31mValueError\u001b[0m                                Traceback (most recent call last)",
      "\u001b[1;32m<ipython-input-81-7e4346c2281e>\u001b[0m in \u001b[0;36m<module>\u001b[1;34m\u001b[0m\n\u001b[0;32m      1\u001b[0m \u001b[1;32mimport\u001b[0m \u001b[0msys\u001b[0m\u001b[1;33m\u001b[0m\u001b[1;33m\u001b[0m\u001b[0m\n\u001b[0;32m      2\u001b[0m \u001b[1;33m\u001b[0m\u001b[0m\n\u001b[1;32m----> 3\u001b[1;33m \u001b[0mN\u001b[0m \u001b[1;33m=\u001b[0m \u001b[0mint\u001b[0m\u001b[1;33m(\u001b[0m\u001b[0msys\u001b[0m\u001b[1;33m.\u001b[0m\u001b[0mstdin\u001b[0m\u001b[1;33m.\u001b[0m\u001b[0mreadline\u001b[0m\u001b[1;33m(\u001b[0m\u001b[1;33m)\u001b[0m\u001b[1;33m)\u001b[0m\u001b[1;33m\u001b[0m\u001b[1;33m\u001b[0m\u001b[0m\n\u001b[0m\u001b[0;32m      4\u001b[0m \u001b[0mM\u001b[0m \u001b[1;33m=\u001b[0m \u001b[1;33m[\u001b[0m\u001b[1;36m0\u001b[0m\u001b[1;33m]\u001b[0m \u001b[1;33m*\u001b[0m \u001b[1;36m10001\u001b[0m\u001b[1;33m\u001b[0m\u001b[1;33m\u001b[0m\u001b[0m\n\u001b[0;32m      5\u001b[0m \u001b[1;33m\u001b[0m\u001b[0m\n",
      "\u001b[1;31mValueError\u001b[0m: invalid literal for int() with base 10: ''"
     ]
    }
   ],
   "source": [
    "import sys\n",
    "\n",
    "N = int(sys.stdin.readline())\n",
    "M = [0] * 10001\n",
    "\n",
    "for i in range(N):\n",
    "    M[int(sys.stdin.readline())] += 1\n",
    "    \n",
    "for k in range(10001):\n",
    "    if M[k] != 0:\n",
    "        for j in range(M[k]):\n",
    "            print(k)"
   ]
  },
  {
   "cell_type": "markdown",
   "id": "dc43f642",
   "metadata": {},
   "source": [
    "## *2108문제 \"통계학\"*"
   ]
  },
  {
   "cell_type": "code",
   "execution_count": 49,
   "id": "e0cc6612",
   "metadata": {},
   "outputs": [
    {
     "name": "stdout",
     "output_type": "stream",
     "text": [
      "1\n",
      "4000\n",
      "4000\n",
      "4000\n",
      "0\n"
     ]
    }
   ],
   "source": [
    "N = int(input())\n",
    "M = []\n",
    "for i in range(N):\n",
    "    M.append(int(input()))\n",
    "\n",
    "##산술평균\n",
    "sum = 0\n",
    "for i in M:\n",
    "    sum += i\n",
    "\n",
    "print(round(sum/N))\n",
    "    \n",
    "##중앙값\n",
    "M = sorted(M)\n",
    "\n",
    "print(M[round(N/2)])\n",
    "\n",
    "##최빈값\n",
    "    \n",
    "\n",
    "##범위\n",
    "print(max(M) - min(M))"
   ]
  },
  {
   "cell_type": "markdown",
   "id": "4b77b2e3",
   "metadata": {},
   "source": [
    "## *1427문제 \"소트인사이드\"*"
   ]
  },
  {
   "cell_type": "code",
   "execution_count": 71,
   "id": "f5fcf237",
   "metadata": {},
   "outputs": [
    {
     "name": "stdout",
     "output_type": "stream",
     "text": [
      "46535135\n",
      "65554331\n"
     ]
    }
   ],
   "source": [
    "N = input()\n",
    "M = []\n",
    "\n",
    "for i in range(len(N)):\n",
    "    M.append(N[i])\n",
    "    \n",
    "M = sorted(M, reverse=True)\n",
    "\n",
    "su = ''.join(M)\n",
    "\n",
    "print(su)"
   ]
  }
 ],
 "metadata": {
  "kernelspec": {
   "display_name": "Python 3",
   "language": "python",
   "name": "python3"
  },
  "language_info": {
   "codemirror_mode": {
    "name": "ipython",
    "version": 3
   },
   "file_extension": ".py",
   "mimetype": "text/x-python",
   "name": "python",
   "nbconvert_exporter": "python",
   "pygments_lexer": "ipython3",
   "version": "3.8.8"
  }
 },
 "nbformat": 4,
 "nbformat_minor": 5
}
