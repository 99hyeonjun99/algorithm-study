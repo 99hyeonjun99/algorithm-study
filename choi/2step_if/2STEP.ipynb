{
 "cells": [
  {
   "cell_type": "markdown",
   "id": "d99ec762",
   "metadata": {},
   "source": [
    "#1330문제"
   ]
  },
  {
   "cell_type": "code",
   "execution_count": 27,
   "id": "8e8e603c",
   "metadata": {},
   "outputs": [
    {
     "name": "stdout",
     "output_type": "stream",
     "text": [
      "2 10\n",
      "<\n"
     ]
    }
   ],
   "source": [
    "A, B = map(int,input().split())\n",
    "if A > B:\n",
    "    print('>')\n",
    "elif A < B:\n",
    "    print('<')\n",
    "else:\n",
    "    print('==')"
   ]
  },
  {
   "cell_type": "markdown",
   "id": "176d7267",
   "metadata": {},
   "source": [
    "#9498문제"
   ]
  },
  {
   "cell_type": "code",
   "execution_count": 46,
   "id": "0ef4b4ea",
   "metadata": {},
   "outputs": [
    {
     "name": "stdout",
     "output_type": "stream",
     "text": [
      "100\n",
      "A\n"
     ]
    }
   ],
   "source": [
    "score = int(input())\n",
    "if score >= 90 :\n",
    "    print('A')\n",
    "elif score >= 80 :\n",
    "    print('B')\n",
    "elif score >= 70 :\n",
    "    print('C')\n",
    "elif score >= 60 :\n",
    "    print('D')\n",
    "else:\n",
    "    print('F')"
   ]
  },
  {
   "cell_type": "markdown",
   "id": "1e7914d7",
   "metadata": {},
   "source": [
    "#2753문제"
   ]
  },
  {
   "cell_type": "code",
   "execution_count": 8,
   "id": "f6839769",
   "metadata": {},
   "outputs": [
    {
     "name": "stdout",
     "output_type": "stream",
     "text": [
      "1999\n",
      "0\n"
     ]
    }
   ],
   "source": [
    "year = int(input())\n",
    "if year % 4 == 0 and year % 100 != 0:\n",
    "    print(1)\n",
    "elif year % 4 == 0 and year % 400 == 0:\n",
    "    print(1)\n",
    "else:\n",
    "    print(0)"
   ]
  },
  {
   "cell_type": "markdown",
   "id": "fcd69499",
   "metadata": {},
   "source": [
    "#14681문제"
   ]
  },
  {
   "cell_type": "code",
   "execution_count": 14,
   "id": "f16db0b0",
   "metadata": {},
   "outputs": [
    {
     "name": "stdout",
     "output_type": "stream",
     "text": [
      "12\n",
      "8\n",
      "1\n"
     ]
    }
   ],
   "source": [
    "x = int(input())\n",
    "y = int(input())\n",
    "if x > 0 and y > 0:\n",
    "    print(1)\n",
    "elif x < 0 and y > 0:\n",
    "    print(2)\n",
    "elif x < 0 and y < 0:\n",
    "    print(3)\n",
    "else:\n",
    "    print(4)"
   ]
  },
  {
   "cell_type": "markdown",
   "id": "a199d2fc",
   "metadata": {},
   "source": [
    "#2884문제"
   ]
  },
  {
   "cell_type": "code",
   "execution_count": 33,
   "id": "f0c384fd",
   "metadata": {},
   "outputs": [
    {
     "name": "stdout",
     "output_type": "stream",
     "text": [
      "0 45\n",
      "0 0\n"
     ]
    }
   ],
   "source": [
    "H,M = map(int,input().split())\n",
    "if M >= 45:\n",
    "    print(H,M-45)\n",
    "elif H == 0 and M < 45:\n",
    "    print(23,M-45+60)\n",
    "else:\n",
    "    print(H-1,M-45+60)"
   ]
  }
 ],
 "metadata": {
  "kernelspec": {
   "display_name": "Python 3",
   "language": "python",
   "name": "python3"
  },
  "language_info": {
   "codemirror_mode": {
    "name": "ipython",
    "version": 3
   },
   "file_extension": ".py",
   "mimetype": "text/x-python",
   "name": "python",
   "nbconvert_exporter": "python",
   "pygments_lexer": "ipython3",
   "version": "3.8.8"
  }
 },
 "nbformat": 4,
 "nbformat_minor": 5
}
