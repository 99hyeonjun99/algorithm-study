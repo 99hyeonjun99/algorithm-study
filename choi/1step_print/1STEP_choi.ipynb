{
 "cells": [
  {
   "cell_type": "markdown",
   "id": "fd776aab",
   "metadata": {},
   "source": [
    "#2557문제"
   ]
  },
  {
   "cell_type": "code",
   "execution_count": 1,
   "id": "9521fed4",
   "metadata": {},
   "outputs": [
    {
     "name": "stdout",
     "output_type": "stream",
     "text": [
      "Hello World!\n"
     ]
    }
   ],
   "source": [
    "print(\"Hello World!\")"
   ]
  },
  {
   "cell_type": "markdown",
   "id": "dfb0aad2",
   "metadata": {},
   "source": [
    "#10718문제"
   ]
  },
  {
   "cell_type": "code",
   "execution_count": 6,
   "id": "d6116f9f",
   "metadata": {},
   "outputs": [
    {
     "name": "stdout",
     "output_type": "stream",
     "text": [
      "강한친구 대한육군\n",
      "강한친구 대한육군\n"
     ]
    }
   ],
   "source": [
    "print(\"강한친구 대한육군\\n강한친구 대한육군\")"
   ]
  },
  {
   "cell_type": "markdown",
   "id": "53b6464a",
   "metadata": {},
   "source": [
    "#10171문제"
   ]
  },
  {
   "cell_type": "code",
   "execution_count": 30,
   "id": "48de87d5",
   "metadata": {},
   "outputs": [
    {
     "name": "stdout",
     "output_type": "stream",
     "text": [
      "\\    /\\\n",
      " )  ( ')\n",
      "(  /  )\n",
      " \\(__)|\n",
      "\n"
     ]
    }
   ],
   "source": [
    "print(\"\"\"\\    /\\\\\n",
    " )  ( ')\n",
    "(  /  )\n",
    " \\(__)|\n",
    "\"\"\")"
   ]
  },
  {
   "cell_type": "code",
   "execution_count": 28,
   "id": "9f9cb40d",
   "metadata": {},
   "outputs": [
    {
     "name": "stdout",
     "output_type": "stream",
     "text": [
      "\\    /\\\n",
      " )  ( ')\n",
      "(  /  )\n",
      " \\(__)|\n"
     ]
    }
   ],
   "source": [
    "print(\"\\    /\\\\\")\n",
    "print(\" )  ( ')\")\n",
    "print(\"(  /  )\")\n",
    "print(\" \\(__)|\")"
   ]
  },
  {
   "cell_type": "markdown",
   "id": "e5e3a737",
   "metadata": {},
   "source": [
    "#10172문제"
   ]
  },
  {
   "cell_type": "code",
   "execution_count": 40,
   "id": "6bbc94b7",
   "metadata": {},
   "outputs": [
    {
     "name": "stdout",
     "output_type": "stream",
     "text": [
      "|\\_/|\n",
      "|q p|   /}\n",
      "( 0 )\"\"\"\\\n",
      "|\"^\"`    |\n",
      "||_/=\\\\__|\n",
      "\n"
     ]
    }
   ],
   "source": [
    "print('''|\\_/|\n",
    "|q p|   /}\n",
    "( 0 )\"\"\"\\\\\n",
    "|\"^\"`    |\n",
    "||_/=\\\\\\__|\n",
    "''')"
   ]
  },
  {
   "cell_type": "markdown",
   "id": "7e5be508",
   "metadata": {},
   "source": [
    "#1000문제"
   ]
  },
  {
   "cell_type": "code",
   "execution_count": 48,
   "id": "9e6a5d25",
   "metadata": {},
   "outputs": [
    {
     "name": "stdout",
     "output_type": "stream",
     "text": [
      "1\n",
      "2\n"
     ]
    },
    {
     "data": {
      "text/plain": [
       "3"
      ]
     },
     "execution_count": 48,
     "metadata": {},
     "output_type": "execute_result"
    }
   ],
   "source": [
    "A = input()\n",
    "B = input()\n",
    "int(A) + int(B)"
   ]
  },
  {
   "cell_type": "code",
   "execution_count": 55,
   "id": "b80f3802",
   "metadata": {},
   "outputs": [
    {
     "name": "stdout",
     "output_type": "stream",
     "text": [
      "1 2\n",
      "3\n"
     ]
    }
   ],
   "source": [
    "A, B = input().split()  # 입력되는 문자를 input()함수로 입력받고 split()함수로 나누어 A,B 변수에 저장\n",
    "\n",
    "print(int(A)+int(B))    # int() 함수로 A와 B를 정수로 변환 하고 두수의 합을 출력"
   ]
  },
  {
   "cell_type": "code",
   "execution_count": 58,
   "id": "0259ee99",
   "metadata": {},
   "outputs": [
    {
     "name": "stdout",
     "output_type": "stream",
     "text": [
      "1,2\n",
      "3\n"
     ]
    }
   ],
   "source": [
    "A, B = input().split(',')\n",
    "print(int(A)+int(B))"
   ]
  },
  {
   "cell_type": "markdown",
   "id": "0f8ca578",
   "metadata": {},
   "source": [
    "#1001문제"
   ]
  },
  {
   "cell_type": "code",
   "execution_count": 59,
   "id": "ed92ed8c",
   "metadata": {},
   "outputs": [
    {
     "name": "stdout",
     "output_type": "stream",
     "text": [
      "3,2\n",
      "1\n"
     ]
    }
   ],
   "source": [
    "A, B = input().split()\n",
    "print(int(A)-int(B))"
   ]
  },
  {
   "cell_type": "markdown",
   "id": "729224c6",
   "metadata": {},
   "source": [
    "#10998문제"
   ]
  },
  {
   "cell_type": "code",
   "execution_count": 62,
   "id": "144ccac8",
   "metadata": {},
   "outputs": [
    {
     "name": "stdout",
     "output_type": "stream",
     "text": [
      "3 2\n",
      "6\n"
     ]
    }
   ],
   "source": [
    "A, B = input().split()\n",
    "print(int(A)*int(B))"
   ]
  },
  {
   "cell_type": "markdown",
   "id": "abea380d",
   "metadata": {},
   "source": [
    "#1008문제"
   ]
  },
  {
   "cell_type": "code",
   "execution_count": null,
   "id": "7ea7d1c0",
   "metadata": {},
   "outputs": [],
   "source": [
    "A, B = input().split()\n",
    "print(int(A)/int(B))"
   ]
  },
  {
   "cell_type": "markdown",
   "id": "abd3f5c1",
   "metadata": {},
   "source": [
    "#10869문제"
   ]
  },
  {
   "cell_type": "code",
   "execution_count": 65,
   "id": "63b49d40",
   "metadata": {},
   "outputs": [
    {
     "name": "stdout",
     "output_type": "stream",
     "text": [
      " 7 3\n",
      "10\n",
      "4\n",
      "21\n",
      "2\n",
      "1\n"
     ]
    }
   ],
   "source": [
    "A, B = input().split()\n",
    "print(int(A)+int(B))\n",
    "print(int(A)-int(B))\n",
    "print(int(A)*int(B))\n",
    "print(int(A)//int(B))\n",
    "print(int(A)%int(B))"
   ]
  },
  {
   "cell_type": "markdown",
   "id": "ae455db6",
   "metadata": {},
   "source": [
    "#10430문제"
   ]
  },
  {
   "cell_type": "code",
   "execution_count": 68,
   "id": "f57e2c25",
   "metadata": {},
   "outputs": [
    {
     "name": "stdout",
     "output_type": "stream",
     "text": [
      "5 8 4\n",
      "1\n",
      "1\n",
      "0\n",
      "0\n"
     ]
    }
   ],
   "source": [
    "A, B, C = input().split()\n",
    "A = int(A)\n",
    "B = int(B)\n",
    "C = int(C)\n",
    "print((A+B)%C)\n",
    "print(((A%C) + (B%C))%C)\n",
    "print((A*B)%C)\n",
    "print(((A%C)*(B%C))%C)"
   ]
  },
  {
   "cell_type": "markdown",
   "id": "76e2be7a",
   "metadata": {},
   "source": [
    "#2588문제"
   ]
  },
  {
   "cell_type": "code",
   "execution_count": 78,
   "id": "77bdf18b",
   "metadata": {},
   "outputs": [
    {
     "name": "stdout",
     "output_type": "stream",
     "text": [
      "472\n",
      "385\n",
      "2360\n",
      "3776\n",
      "1416\n",
      "181720\n"
     ]
    }
   ],
   "source": [
    "One = input()\n",
    "Two = input()\n",
    "Three = int(One)*int(Two[2])\n",
    "Four = int(One)*int(Two[1])\n",
    "Five = int(One)*int(Two[0])\n",
    "Six = Three + Four*10 + Five*100\n",
    "print(Three)\n",
    "print(Four)\n",
    "print(Five)\n",
    "print(Six)"
   ]
  }
 ],
 "metadata": {
  "kernelspec": {
   "display_name": "Python 3",
   "language": "python",
   "name": "python3"
  },
  "language_info": {
   "codemirror_mode": {
    "name": "ipython",
    "version": 3
   },
   "file_extension": ".py",
   "mimetype": "text/x-python",
   "name": "python",
   "nbconvert_exporter": "python",
   "pygments_lexer": "ipython3",
   "version": "3.8.8"
  },
  "widgets": {
   "application/vnd.jupyter.widget-state+json": {
    "state": {},
    "version_major": 2,
    "version_minor": 0
   }
  }
 },
 "nbformat": 4,
 "nbformat_minor": 5
}
