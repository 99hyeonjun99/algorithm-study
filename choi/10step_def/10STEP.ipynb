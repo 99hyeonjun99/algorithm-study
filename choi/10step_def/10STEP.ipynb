{
 "cells": [
  {
   "cell_type": "markdown",
   "id": "b25450bf",
   "metadata": {},
   "source": [
    "# 재귀함수"
   ]
  },
  {
   "cell_type": "markdown",
   "id": "ffdaa8c8",
   "metadata": {},
   "source": [
    "# 10872문제\n",
    "###### 팩토리얼"
   ]
  },
  {
   "cell_type": "code",
   "execution_count": 11,
   "id": "00ba4e21",
   "metadata": {},
   "outputs": [
    {
     "name": "stdout",
     "output_type": "stream",
     "text": [
      "10\n",
      "3628800\n"
     ]
    }
   ],
   "source": [
    "def factorial(n):\n",
    "    result = 1\n",
    "    if n > 0:\n",
    "        result = n * factorial(n-1)\n",
    "    return result\n",
    "n = int(input())\n",
    "print(factorial(n))"
   ]
  },
  {
   "cell_type": "code",
   "execution_count": 1,
   "id": "bb0f1332",
   "metadata": {},
   "outputs": [
    {
     "name": "stdout",
     "output_type": "stream",
     "text": [
      "10\n",
      "3628800\n"
     ]
    }
   ],
   "source": [
    "N = int(input())\n",
    "a = [i for i in range(1,N+1)]\n",
    "m = 1\n",
    "for i in a:\n",
    "    m *= i\n",
    "print(m)"
   ]
  },
  {
   "cell_type": "markdown",
   "id": "906b719b",
   "metadata": {},
   "source": [
    "# 10870문제\n",
    "###### 피보나치수열"
   ]
  },
  {
   "cell_type": "code",
   "execution_count": 9,
   "id": "558b496b",
   "metadata": {},
   "outputs": [
    {
     "name": "stdout",
     "output_type": "stream",
     "text": [
      "10\n"
     ]
    },
    {
     "data": {
      "text/plain": [
       "55"
      ]
     },
     "execution_count": 9,
     "metadata": {},
     "output_type": "execute_result"
    }
   ],
   "source": [
    "def pibonacci(n):\n",
    "    if n <= 1:\n",
    "        return n\n",
    "    return pibonacci(n-1) + pibonacci(n-2)\n",
    "n = int(input())\n",
    "print(pibonacci(n))"
   ]
  },
  {
   "cell_type": "markdown",
   "id": "1596d26b",
   "metadata": {},
   "source": [
    "# 2447문제\n",
    "###### 별찍기"
   ]
  },
  {
   "cell_type": "code",
   "execution_count": null,
   "id": "5cd12e1b",
   "metadata": {},
   "outputs": [],
   "source": [
    "def draw_star(n):\n",
    "    if n == 3:\n",
    "        "
   ]
  },
  {
   "cell_type": "markdown",
   "id": "f48c304d",
   "metadata": {},
   "source": [
    "# 11729문제\n",
    "###### 하노이 탑 이동 순서"
   ]
  },
  {
   "cell_type": "code",
   "execution_count": null,
   "id": "5868cf14",
   "metadata": {},
   "outputs": [],
   "source": [
    "def "
   ]
  }
 ],
 "metadata": {
  "kernelspec": {
   "display_name": "Python 3",
   "language": "python",
   "name": "python3"
  },
  "language_info": {
   "codemirror_mode": {
    "name": "ipython",
    "version": 3
   },
   "file_extension": ".py",
   "mimetype": "text/x-python",
   "name": "python",
   "nbconvert_exporter": "python",
   "pygments_lexer": "ipython3",
   "version": "3.8.8"
  }
 },
 "nbformat": 4,
 "nbformat_minor": 5
}
