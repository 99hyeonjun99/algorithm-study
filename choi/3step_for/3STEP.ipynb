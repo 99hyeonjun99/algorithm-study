{
 "cells": [
  {
   "cell_type": "markdown",
   "id": "12b08fac",
   "metadata": {},
   "source": [
    "#2739문제"
   ]
  },
  {
   "cell_type": "code",
   "execution_count": 46,
   "id": "3a424823",
   "metadata": {},
   "outputs": [
    {
     "name": "stdout",
     "output_type": "stream",
     "text": [
      "2\n",
      "2 * 1 = 2\n",
      "2 * 2 = 4\n",
      "2 * 3 = 6\n",
      "2 * 4 = 8\n",
      "2 * 5 = 10\n",
      "2 * 6 = 12\n",
      "2 * 7 = 14\n",
      "2 * 8 = 16\n",
      "2 * 9 = 18\n"
     ]
    }
   ],
   "source": [
    "N = int(input())\n",
    "for i in range(1,10):\n",
    "    print(N,'*',i,'=',N*i)"
   ]
  },
  {
   "cell_type": "markdown",
   "id": "f598c738",
   "metadata": {},
   "source": [
    "#10950문제"
   ]
  },
  {
   "cell_type": "code",
   "execution_count": 51,
   "id": "7b087647",
   "metadata": {},
   "outputs": [
    {
     "name": "stdout",
     "output_type": "stream",
     "text": [
      "5\n",
      "1 2\n",
      "3\n",
      "1 1\n",
      "2\n",
      "3 4\n",
      "7\n",
      "9 8\n",
      "17\n",
      "5 2\n",
      "7\n"
     ]
    }
   ],
   "source": [
    "T = int(input())\n",
    "for i in range(T):\n",
    "    A,B = map(int,input().split())\n",
    "    print(A+B)"
   ]
  },
  {
   "cell_type": "markdown",
   "id": "fa668cc0",
   "metadata": {},
   "source": [
    "#8393문제"
   ]
  },
  {
   "cell_type": "code",
   "execution_count": 65,
   "id": "ff8ed7f6",
   "metadata": {},
   "outputs": [
    {
     "name": "stdout",
     "output_type": "stream",
     "text": [
      "3\n",
      "6\n"
     ]
    }
   ],
   "source": [
    "n = int(input())\n",
    "sum = 0\n",
    "for i in range(1,n+1):\n",
    "    sum = sum + i\n",
    "print(sum)"
   ]
  },
  {
   "cell_type": "markdown",
   "id": "3d1ed2b6",
   "metadata": {},
   "source": [
    "#15552문제"
   ]
  },
  {
   "cell_type": "code",
   "execution_count": null,
   "id": "e5b6bb70",
   "metadata": {},
   "outputs": [],
   "source": [
    "import sys  \n",
    "\n",
    "t = int(sys.stdin.readline())\n",
    "for i in range(t):\n",
    "    a,b = map(int, sys.stdin.readline().split())\n",
    "    print(a+b)"
   ]
  },
  {
   "cell_type": "markdown",
   "id": "be4425cf",
   "metadata": {},
   "source": [
    "#2741문제"
   ]
  },
  {
   "cell_type": "code",
   "execution_count": 71,
   "id": "f5ce72ef",
   "metadata": {},
   "outputs": [
    {
     "name": "stdout",
     "output_type": "stream",
     "text": [
      "5\n",
      "1\n",
      "2\n",
      "3\n",
      "4\n",
      "5\n"
     ]
    }
   ],
   "source": [
    "N = int(input())\n",
    "sum = 0\n",
    "for i in range(1,N+1):\n",
    "    sum += 1\n",
    "    print(sum)"
   ]
  },
  {
   "cell_type": "markdown",
   "id": "fca3df87",
   "metadata": {},
   "source": [
    "#2742문제"
   ]
  },
  {
   "cell_type": "code",
   "execution_count": 79,
   "id": "a8e9090c",
   "metadata": {},
   "outputs": [
    {
     "name": "stdout",
     "output_type": "stream",
     "text": [
      "5\n",
      "5\n",
      "4\n",
      "3\n",
      "2\n",
      "1\n"
     ]
    }
   ],
   "source": [
    "N = int(input())\n",
    "sum = N\n",
    "for i in range(0,N+1):\n",
    "    print(sum)\n",
    "    sum -= 1\n",
    "    if sum == 0:\n",
    "        break"
   ]
  },
  {
   "cell_type": "markdown",
   "id": "6745d35a",
   "metadata": {},
   "source": [
    "#11021문제"
   ]
  },
  {
   "cell_type": "code",
   "execution_count": 84,
   "id": "ce695410",
   "metadata": {},
   "outputs": [
    {
     "name": "stdout",
     "output_type": "stream",
     "text": [
      "1\n",
      "1 2\n",
      "Case #1: 3\n"
     ]
    }
   ],
   "source": [
    "T = int(input())\n",
    "for i in range(1,T+1):\n",
    "    A, B = map(int,input().split())\n",
    "    print(\"Case #%d:\"%i,A+B)"
   ]
  },
  {
   "cell_type": "code",
   "execution_count": 85,
   "id": "e8f7b1e0",
   "metadata": {},
   "outputs": [],
   "source": [
    "##  %s -> 문자열\n",
    "##  %d -> 정수\n",
    "##  %f -> 실수"
   ]
  },
  {
   "cell_type": "markdown",
   "id": "77c6bbdc",
   "metadata": {},
   "source": [
    "#11022문제"
   ]
  },
  {
   "cell_type": "code",
   "execution_count": 88,
   "id": "2811fff5",
   "metadata": {},
   "outputs": [
    {
     "name": "stdout",
     "output_type": "stream",
     "text": [
      "1\n",
      "1 2\n",
      "Case #1: 1 + 2 = 3\n"
     ]
    }
   ],
   "source": [
    "T = int(input())\n",
    "for i in range(1,T+1):\n",
    "    A, B = map(int,input().split())\n",
    "    print(\"Case #%d: %d + %d = %d\"%(i,A,B,A+B))"
   ]
  },
  {
   "cell_type": "markdown",
   "id": "16c42bb8",
   "metadata": {},
   "source": [
    "#2438문제"
   ]
  },
  {
   "cell_type": "code",
   "execution_count": 91,
   "id": "ad740a75",
   "metadata": {},
   "outputs": [
    {
     "name": "stdout",
     "output_type": "stream",
     "text": [
      "5\n",
      "*\n",
      "**\n",
      "***\n",
      "****\n",
      "*****\n"
     ]
    }
   ],
   "source": [
    "N = int(input())\n",
    "for i in range(1,N+1):\n",
    "    print('*'*i)"
   ]
  },
  {
   "cell_type": "markdown",
   "id": "b6c689c7",
   "metadata": {},
   "source": [
    "#2439문제"
   ]
  },
  {
   "cell_type": "code",
   "execution_count": 98,
   "id": "23e5d056",
   "metadata": {},
   "outputs": [
    {
     "name": "stdout",
     "output_type": "stream",
     "text": [
      "5\n",
      "    *\n",
      "   **\n",
      "  ***\n",
      " ****\n",
      "*****\n"
     ]
    }
   ],
   "source": [
    "N = int(input())\n",
    "for i in range(1,N+1):\n",
    "    print(' '*(N-i)+'*'*i)"
   ]
  },
  {
   "cell_type": "markdown",
   "id": "3a9e13ed",
   "metadata": {},
   "source": [
    "#10871문제"
   ]
  },
  {
   "cell_type": "code",
   "execution_count": 107,
   "id": "fbcfb416",
   "metadata": {},
   "outputs": [
    {
     "name": "stdout",
     "output_type": "stream",
     "text": [
      "10 5\n",
      "1 10 4 9 2 3 8 5 7 6\n",
      "1 4 2 3 "
     ]
    }
   ],
   "source": [
    "N, x = map(int,input().split())\n",
    "num = list(map(int,input().split()))\n",
    "for i in range(N):\n",
    "    if num[i] < x:\n",
    "        print(num[i],end=' ')"
   ]
  },
  {
   "cell_type": "code",
   "execution_count": null,
   "id": "33a0dd80",
   "metadata": {},
   "outputs": [],
   "source": []
  }
 ],
 "metadata": {
  "kernelspec": {
   "display_name": "Python 3",
   "language": "python",
   "name": "python3"
  },
  "language_info": {
   "codemirror_mode": {
    "name": "ipython",
    "version": 3
   },
   "file_extension": ".py",
   "mimetype": "text/x-python",
   "name": "python",
   "nbconvert_exporter": "python",
   "pygments_lexer": "ipython3",
   "version": "3.8.8"
  }
 },
 "nbformat": 4,
 "nbformat_minor": 5
}
