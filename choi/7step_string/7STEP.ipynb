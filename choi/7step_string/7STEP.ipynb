{
 "cells": [
  {
   "cell_type": "markdown",
   "id": "008cb11c",
   "metadata": {},
   "source": [
    "# 11654문제"
   ]
  },
  {
   "cell_type": "code",
   "execution_count": 1,
   "id": "f5c8a87c",
   "metadata": {},
   "outputs": [
    {
     "name": "stdout",
     "output_type": "stream",
     "text": [
      "A\n",
      "65\n"
     ]
    }
   ],
   "source": [
    "N = input()\n",
    "print(ord(N))"
   ]
  },
  {
   "cell_type": "markdown",
   "id": "ff8f6087",
   "metadata": {},
   "source": [
    "# 11720문제"
   ]
  },
  {
   "cell_type": "code",
   "execution_count": 11,
   "id": "17782cbc",
   "metadata": {},
   "outputs": [
    {
     "name": "stdout",
     "output_type": "stream",
     "text": [
      "5\n",
      "01234\n",
      "10\n"
     ]
    }
   ],
   "source": [
    "N = int(input())\n",
    "A = input()\n",
    "sum = 0\n",
    "for i in range(N):\n",
    "    sum += int(A[i])\n",
    "print(sum)"
   ]
  },
  {
   "cell_type": "markdown",
   "id": "00e9488f",
   "metadata": {},
   "source": [
    "# 10809문제"
   ]
  },
  {
   "cell_type": "code",
   "execution_count": 42,
   "id": "7b0c4f50",
   "metadata": {},
   "outputs": [
    {
     "name": "stdout",
     "output_type": "stream",
     "text": [
      "baekjoon\n",
      "1 0 -1 -1 2 -1 -1 -1 -1 4 3 -1 -1 7 5 -1 -1 -1 -1 -1 -1 -1 -1 -1 -1 -1\n"
     ]
    }
   ],
   "source": [
    "S = input()\n",
    "A =[]\n",
    "for i in 'abcdefghijklmnopqrstuvwxyz':\n",
    "    if i in S:\n",
    "        A.append(S.index(i))\n",
    "    else:\n",
    "        A.append(-1)\n",
    "print(' '.join(map(str,A)))"
   ]
  },
  {
   "cell_type": "code",
   "execution_count": null,
   "id": "8ca14832",
   "metadata": {},
   "outputs": [],
   "source": [
    "#find 함수 사용\n",
    "S = input()\n",
    "for i in 'abcdefghijklmnopqrstuvwxyz':\n",
    "    print(S.find(i)) "
   ]
  },
  {
   "cell_type": "code",
   "execution_count": 47,
   "id": "c02df3da",
   "metadata": {},
   "outputs": [
    {
     "name": "stdout",
     "output_type": "stream",
     "text": [
      "abc\n",
      "0 1 2 -1 -1 -1 -1 -1 -1 -1 -1 -1 -1 -1 -1 -1 -1 -1 -1 -1 -1 -1 -1 -1 -1 -1 "
     ]
    }
   ],
   "source": [
    "S = input()\n",
    "for i in 'abcdefghijklmnopqrstuvwxyz':\n",
    "    if i in S:\n",
    "        print(S.index(i), end =' ')\n",
    "    else:\n",
    "        print(-1, end =' ')"
   ]
  },
  {
   "cell_type": "markdown",
   "id": "6b3c8153",
   "metadata": {},
   "source": [
    "# 2675문제"
   ]
  },
  {
   "cell_type": "code",
   "execution_count": 53,
   "id": "b05338b4",
   "metadata": {},
   "outputs": [
    {
     "name": "stdout",
     "output_type": "stream",
     "text": [
      "3\n",
      "3 avvc\n",
      "aaavvvvvvccc\n",
      "5 a\n",
      "aaaaa\n",
      "1 a\n",
      "a\n"
     ]
    }
   ],
   "source": [
    "Count = int(input())\n",
    "for i in range(Count):\n",
    "    N,A = input().split()\n",
    "    P = ''\n",
    "    for k in A:\n",
    "        P += k*int(N)\n",
    "    print(P)"
   ]
  },
  {
   "cell_type": "markdown",
   "id": "593640b0",
   "metadata": {},
   "source": [
    "# 1157문제"
   ]
  },
  {
   "cell_type": "code",
   "execution_count": 79,
   "id": "614bfee4",
   "metadata": {},
   "outputs": [
    {
     "name": "stdout",
     "output_type": "stream",
     "text": [
      "aaaabc\n",
      "A\n"
     ]
    }
   ],
   "source": [
    "Text = input().upper()\n",
    "New_Text = list(set(Text))\n",
    "A = []\n",
    "\n",
    "for i in New_Text:\n",
    "    count = Text.count(i)\n",
    "    A.append(count)\n",
    "if A.count(max(A)) > 1:\n",
    "    print('?')\n",
    "else:\n",
    "    idx = A.index(max(A))\n",
    "    print(New_Text[idx])"
   ]
  },
  {
   "cell_type": "markdown",
   "id": "5fdf4d3f",
   "metadata": {},
   "source": [
    "# 1152문제"
   ]
  },
  {
   "cell_type": "code",
   "execution_count": 83,
   "id": "000bb4a2",
   "metadata": {},
   "outputs": [
    {
     "name": "stdout",
     "output_type": "stream",
     "text": [
      "The Curious Case of Benjamin Button\n",
      "6\n"
     ]
    }
   ],
   "source": [
    "Text = input()\n",
    "A = Text.split()\n",
    "print(len(A))"
   ]
  },
  {
   "cell_type": "markdown",
   "id": "4cd8839e",
   "metadata": {},
   "source": [
    "# 2908문제"
   ]
  },
  {
   "cell_type": "code",
   "execution_count": 88,
   "id": "005f1a6e",
   "metadata": {},
   "outputs": [
    {
     "name": "stdout",
     "output_type": "stream",
     "text": [
      "123 456\n",
      "654\n"
     ]
    }
   ],
   "source": [
    "A,B = input().split()\n",
    "A = int(A[::-1])\n",
    "B = int(B[::-1])\n",
    "if A > B:\n",
    "    print(A)\n",
    "else:\n",
    "    print(B)"
   ]
  },
  {
   "cell_type": "markdown",
   "id": "4c21e279",
   "metadata": {},
   "source": [
    "# 5622문제"
   ]
  },
  {
   "cell_type": "code",
   "execution_count": 100,
   "id": "ffd0d459",
   "metadata": {},
   "outputs": [
    {
     "name": "stdout",
     "output_type": "stream",
     "text": [
      "WA\n",
      "13\n"
     ]
    }
   ],
   "source": [
    "dial = ['ABC','DEF','GHI','JKL','MNO','PQRS','TUV','WXYZ']\n",
    "text = input()\n",
    "time = 0\n",
    "for k in range(len(text)):\n",
    "    for i in dial:\n",
    "        if text[k] in i:\n",
    "            time += dial.index(i) + 3\n",
    "print(time)"
   ]
  },
  {
   "cell_type": "markdown",
   "id": "81caa82a",
   "metadata": {},
   "source": [
    "# 2941문제"
   ]
  },
  {
   "cell_type": "code",
   "execution_count": 105,
   "id": "80954784",
   "metadata": {},
   "outputs": [
    {
     "name": "stdout",
     "output_type": "stream",
     "text": [
      "ljes=njak\n",
      "?e??ak\n"
     ]
    }
   ],
   "source": [
    "a = ['c=','c-','dz=','d-','lj','nj','s=','z=']\n",
    "text = input()\n",
    "for i in a:\n",
    "    text = text.replace(i,'?')\n",
    "print(len(text))"
   ]
  },
  {
   "cell_type": "markdown",
   "id": "0dabe61c",
   "metadata": {},
   "source": [
    "# 1316문제"
   ]
  },
  {
   "cell_type": "code",
   "execution_count": 115,
   "id": "fba5e8ff",
   "metadata": {},
   "outputs": [
    {
     "name": "stdout",
     "output_type": "stream",
     "text": [
      "2\n",
      "happy\n",
      "year\n",
      "2\n"
     ]
    }
   ],
   "source": [
    "N = int(input())\n",
    "sum = 0\n",
    "for i in range(N):\n",
    "    error = 0\n",
    "    text = input()\n",
    "    for k in range(len(text)-1):\n",
    "        if text[k] != text[k+1]:\n",
    "            after = text[k+1:]\n",
    "            if text[k] in after:\n",
    "                error += 1\n",
    "    if error == 0:\n",
    "        sum += 1\n",
    "print(sum)"
   ]
  },
  {
   "cell_type": "code",
   "execution_count": 112,
   "id": "58d77dc1",
   "metadata": {},
   "outputs": [
    {
     "data": {
      "text/plain": [
       "'py'"
      ]
     },
     "execution_count": 112,
     "metadata": {},
     "output_type": "execute_result"
    }
   ],
   "source": [
    "A = 'happy'\n",
    "A[3:]"
   ]
  }
 ],
 "metadata": {
  "kernelspec": {
   "display_name": "Python 3",
   "language": "python",
   "name": "python3"
  },
  "language_info": {
   "codemirror_mode": {
    "name": "ipython",
    "version": 3
   },
   "file_extension": ".py",
   "mimetype": "text/x-python",
   "name": "python",
   "nbconvert_exporter": "python",
   "pygments_lexer": "ipython3",
   "version": "3.8.8"
  }
 },
 "nbformat": 4,
 "nbformat_minor": 5
}
