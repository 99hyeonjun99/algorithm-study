{
 "cells": [
  {
   "cell_type": "code",
   "execution_count": 21,
   "id": "117da2ae",
   "metadata": {},
   "outputs": [
    {
     "name": "stdout",
     "output_type": "stream",
     "text": [
      "5\n",
      "12 13 14 15 16\n",
      "12 16\n"
     ]
    }
   ],
   "source": [
    "cnt = int(input())                   #문제에 주어진 정수의 개수와 전수 범위는 내가 신경쓸 바 아님, 값을 입력하는 사용자가 잘 쓰면 됨\n",
    "numbers = list(map(int, input().split()))  #list 안에 map을 쓴다. input받은거를 split을 써서 스페이스바 기준을 나눔\n",
    "max = numbers[0]\n",
    "min = numbers[0]\n",
    "\n",
    "for i in numbers[1:]:              #사고 : 리스트 첫번째에 min, max 지정 두번째부터 돌아가며 비교 (밀어내기)\n",
    "    if i > max:\n",
    "        max = i\n",
    "    elif i < min:\n",
    "        min = i\n",
    "\n",
    "print(min,max)"
   ]
  },
  {
   "cell_type": "code",
   "execution_count": null,
   "id": "516ba5b8",
   "metadata": {},
   "outputs": [],
   "source": [
    "lst = []\n",
    "for i in range(9):\n",
    "    lst.append(int(input()))            #list.append(x) list끝에 x를 1개 넣습니다 9번 반복해서 9개 넣기\n",
    "    \n",
    "print(max(lst))\n",
    "print(lst.index(max(lst))+1)"
   ]
  }
 ],
 "metadata": {
  "kernelspec": {
   "display_name": "Python 3",
   "language": "python",
   "name": "python3"
  },
  "language_info": {
   "codemirror_mode": {
    "name": "ipython",
    "version": 3
   },
   "file_extension": ".py",
   "mimetype": "text/x-python",
   "name": "python",
   "nbconvert_exporter": "python",
   "pygments_lexer": "ipython3",
   "version": "3.8.8"
  }
 },
 "nbformat": 4,
 "nbformat_minor": 5
}
