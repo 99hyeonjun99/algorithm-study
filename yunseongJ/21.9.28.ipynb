{
 "cells": [
  {
   "cell_type": "code",
   "execution_count": 21,
   "id": "51633711",
   "metadata": {
    "scrolled": true
   },
   "outputs": [
    {
     "name": "stdout",
     "output_type": "stream",
     "text": [
      "5\n",
      "12 13 14 15 16\n",
      "12 16\n"
     ]
    }
   ],
   "source": [
    "cnt = int(input())                   #문제에 주어진 정수의 개수와 전수 범위는 내가 신경쓸 바 아님, 값을 입력하는 사용자가 잘 쓰면 됨\n",
    "numbers = list(map(int, input().split()))  #list 안에 map을 쓴다. input받은거를 split을 써서 스페이스바 기준을 나눔\n",
    "max = numbers[0]\n",
    "min = numbers[0]\n",
    "\n",
    "for i in numbers[1:]:              #사고 : 리스트 첫번째에 min, max 지정 두번째부터 돌아가며 비교 (밀어내기)\n",
    "    if i > max:\n",
    "        max = i\n",
    "    elif i < min:\n",
    "        min = i\n",
    "\n",
    "print(min,max)"
   ]
  },
  {
   "cell_type": "code",
   "execution_count": 26,
   "id": "7810f361",
   "metadata": {},
   "outputs": [
    {
     "name": "stdout",
     "output_type": "stream",
     "text": [
      "15\n",
      "14\n",
      "16\n",
      "13\n",
      "12\n",
      "11\n",
      "10\n",
      "17\n",
      "18\n"
     ]
    },
    {
     "ename": "TypeError",
     "evalue": "'int' object is not callable",
     "output_type": "error",
     "traceback": [
      "\u001b[1;31m---------------------------------------------------------------------------\u001b[0m",
      "\u001b[1;31mTypeError\u001b[0m                                 Traceback (most recent call last)",
      "\u001b[1;32m<ipython-input-26-c4d6c67546e3>\u001b[0m in \u001b[0;36m<module>\u001b[1;34m\u001b[0m\n\u001b[0;32m      3\u001b[0m     \u001b[0marr\u001b[0m\u001b[1;33m.\u001b[0m\u001b[0mappend\u001b[0m\u001b[1;33m(\u001b[0m\u001b[0mint\u001b[0m\u001b[1;33m(\u001b[0m\u001b[0minput\u001b[0m\u001b[1;33m(\u001b[0m\u001b[1;33m)\u001b[0m\u001b[1;33m)\u001b[0m\u001b[1;33m)\u001b[0m\u001b[1;33m\u001b[0m\u001b[1;33m\u001b[0m\u001b[0m\n\u001b[0;32m      4\u001b[0m \u001b[1;33m\u001b[0m\u001b[0m\n\u001b[1;32m----> 5\u001b[1;33m \u001b[0mmax\u001b[0m \u001b[1;33m=\u001b[0m \u001b[0mmax\u001b[0m\u001b[1;33m(\u001b[0m\u001b[0marr\u001b[0m\u001b[1;33m)\u001b[0m\u001b[1;33m\u001b[0m\u001b[1;33m\u001b[0m\u001b[0m\n\u001b[0m\u001b[0;32m      6\u001b[0m \u001b[0mprint\u001b[0m\u001b[1;33m(\u001b[0m\u001b[0mmax\u001b[0m\u001b[1;33m)\u001b[0m\u001b[1;33m\u001b[0m\u001b[1;33m\u001b[0m\u001b[0m\n\u001b[0;32m      7\u001b[0m \u001b[0midx\u001b[0m \u001b[1;33m=\u001b[0m \u001b[0marr\u001b[0m\u001b[1;33m.\u001b[0m\u001b[0mindex\u001b[0m\u001b[1;33m(\u001b[0m\u001b[0mmax\u001b[0m\u001b[1;33m)\u001b[0m\u001b[1;33m\u001b[0m\u001b[1;33m\u001b[0m\u001b[0m\n",
      "\u001b[1;31mTypeError\u001b[0m: 'int' object is not callable"
     ]
    }
   ],
   "source": [
    "lst = []\n",
    "for i in range(9):\n",
    "    lst.append(int(input()))\n",
    "print(max(lst))\n",
    "print(lst.index(max(lst))+1)   ###왜????????????????????????????"
   ]
  },
  {
   "cell_type": "code",
   "execution_count": null,
   "id": "25dd2f54",
   "metadata": {},
   "outputs": [],
   "source": [
    "a = int(input())\n",
    "b = int(input())\n",
    "c = int(input())\n",
    "\n",
    "result = list(str(a * b * c))          #str 문자열 변환\n",
    "for i in range(10):                     #str 왜씀??\n",
    "    print(result.count(str(i)))          "
   ]
  },
  {
   "cell_type": "code",
   "execution_count": null,
   "id": "57dae4d3",
   "metadata": {},
   "outputs": [],
   "source": [
    "a = []\n",
    "for i in range(10):\n",
    "    n = int(input())\n",
    "    a.append(n%42)\n",
    "a = set(a)     #중복을 제거하기위해 set을 해줌, set이 중복을 걸러줌\n",
    "print(len(a))"
   ]
  },
  {
   "cell_type": "code",
   "execution_count": 34,
   "id": "16966691",
   "metadata": {},
   "outputs": [
    {
     "name": "stdout",
     "output_type": "stream",
     "text": [
      "Requirement already satisfied: numpy in c:\\users\\user\\anaconda3\\lib\\site-packages (1.20.1)Note: you may need to restart the kernel to use updated packages.\n",
      "\n"
     ]
    }
   ],
   "source": [
    "pip install numpy"
   ]
  },
  {
   "cell_type": "code",
   "execution_count": 38,
   "id": "35508232",
   "metadata": {},
   "outputs": [
    {
     "name": "stdout",
     "output_type": "stream",
     "text": [
      "3\n",
      "70 80 90\n"
     ]
    },
    {
     "ename": "TypeError",
     "evalue": "'int' object is not callable",
     "output_type": "error",
     "traceback": [
      "\u001b[1;31m---------------------------------------------------------------------------\u001b[0m",
      "\u001b[1;31mTypeError\u001b[0m                                 Traceback (most recent call last)",
      "\u001b[1;32m<ipython-input-38-0653382ad287>\u001b[0m in \u001b[0;36m<module>\u001b[1;34m\u001b[0m\n\u001b[0;32m      3\u001b[0m \u001b[0mcnt\u001b[0m \u001b[1;33m=\u001b[0m \u001b[0mint\u001b[0m\u001b[1;33m(\u001b[0m\u001b[0minput\u001b[0m\u001b[1;33m(\u001b[0m\u001b[1;33m)\u001b[0m\u001b[1;33m)\u001b[0m\u001b[1;33m\u001b[0m\u001b[1;33m\u001b[0m\u001b[0m\n\u001b[0;32m      4\u001b[0m \u001b[0mnumbers\u001b[0m \u001b[1;33m=\u001b[0m \u001b[0mlist\u001b[0m\u001b[1;33m(\u001b[0m\u001b[0mmap\u001b[0m\u001b[1;33m(\u001b[0m\u001b[0mint\u001b[0m\u001b[1;33m,\u001b[0m \u001b[0minput\u001b[0m\u001b[1;33m(\u001b[0m\u001b[1;33m)\u001b[0m\u001b[1;33m.\u001b[0m\u001b[0msplit\u001b[0m\u001b[1;33m(\u001b[0m\u001b[1;33m)\u001b[0m\u001b[1;33m)\u001b[0m\u001b[1;33m)\u001b[0m\u001b[1;33m\u001b[0m\u001b[1;33m\u001b[0m\u001b[0m\n\u001b[1;32m----> 5\u001b[1;33m \u001b[0mM\u001b[0m \u001b[1;33m=\u001b[0m \u001b[0mmax\u001b[0m\u001b[1;33m(\u001b[0m\u001b[0mnumbers\u001b[0m\u001b[1;33m)\u001b[0m\u001b[1;33m\u001b[0m\u001b[1;33m\u001b[0m\u001b[0m\n\u001b[0m\u001b[0;32m      6\u001b[0m \u001b[0msum\u001b[0m \u001b[1;33m=\u001b[0m \u001b[1;36m0\u001b[0m\u001b[1;33m\u001b[0m\u001b[1;33m\u001b[0m\u001b[0m\n\u001b[0;32m      7\u001b[0m \u001b[1;33m\u001b[0m\u001b[0m\n",
      "\u001b[1;31mTypeError\u001b[0m: 'int' object is not callable"
     ]
    }
   ],
   "source": [
    "import numpy\n",
    "\n",
    "cnt = int(input())                 \n",
    "numbers = list(map(int, input().split()))\n",
    "M = max(numbers)\n",
    "sum = 0\n",
    "\n",
    "for i in range(cnt):\n",
    "    sum = sum + numbers[i]/M*100\n",
    "    \n",
    "print(sum/len(numbers))                 # 컴파일 에러 왜이래???"
   ]
  },
  {
   "cell_type": "code",
   "execution_count": 40,
   "id": "2a3eabe9",
   "metadata": {},
   "outputs": [
    {
     "name": "stdout",
     "output_type": "stream",
     "text": [
      "5\n",
      "5 50 50 70 80 100\n",
      "7 100 95 90 80 70 60 50\n",
      "3 70 90 80\n",
      "3 70 90 81\n",
      "9 100 99 98 97 96 95 94 93 91\n",
      "40.44444444444444\n"
     ]
    }
   ],
   "source": [
    "cnt = int(input())\n",
    "sum = 0\n",
    "\n",
    "for i in range(cnt):\n",
    "    scores = list(map(int,input().split()))\n",
    "    sum = sum + scores[i]\n",
    "print((sum-scores[0])/(len(scores)-1))   #학생의 비율??"
   ]
  },
  {
   "cell_type": "code",
   "execution_count": 42,
   "id": "72b5f940",
   "metadata": {},
   "outputs": [],
   "source": [
    "def solve(a_list):\n",
    "    result = 0\n",
    "    for a in a_list:\n",
    "        result += a\n",
    "    return result"
   ]
  },
  {
   "cell_type": "code",
   "execution_count": null,
   "id": "743939b6",
   "metadata": {},
   "outputs": [],
   "source": []
  },
  {
   "cell_type": "code",
   "execution_count": 43,
   "id": "a86af36c",
   "metadata": {},
   "outputs": [
    {
     "name": "stdout",
     "output_type": "stream",
     "text": [
      "144\n",
      "102\n"
     ]
    }
   ],
   "source": [
    "def hansu(num) :\n",
    "    han_sum = 0\n",
    "    for i in range(1, num+1):\n",
    "        num_list = list(map(int,str(i)))   ##변수 i를 str함수로 문자열로 변환시키고서 각 자릿수를 분리해서 다시 int 타입으로 변환\n",
    "            han_sum += 1  # 100보다 작으면 모두 한수\n",
    "        elif num_list[0]-num_list[1] == num_list[1]-num_list[2]:\n",
    "            han_sum += 1  # x의 각 자리가 등차수열이면 한수\n",
    "    return han_sum\n",
    "\n",
    "num = int(input())\n",
    "print(hansu(num))"
   ]
  }
 ],
 "metadata": {
  "kernelspec": {
   "display_name": "Python 3",
   "language": "python",
   "name": "python3"
  },
  "language_info": {
   "codemirror_mode": {
    "name": "ipython",
    "version": 3
   },
   "file_extension": ".py",
   "mimetype": "text/x-python",
   "name": "python",
   "nbconvert_exporter": "python",
   "pygments_lexer": "ipython3",
   "version": "3.8.8"
  }
 },
 "nbformat": 4,
 "nbformat_minor": 5
}
